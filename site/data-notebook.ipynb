{
 "cells": [
  {
   "cell_type": "code",
   "execution_count": 2,
   "metadata": {},
   "outputs": [
    {
     "name": "stderr",
     "output_type": "stream",
     "text": [
      "/home/connor/Research/gpt-quiz-generation/quiz-env/lib/python3.8/site-packages/tqdm/auto.py:22: TqdmWarning: IProgress not found. Please update jupyter and ipywidgets. See https://ipywidgets.readthedocs.io/en/stable/user_install.html\n",
      "  from .autonotebook import tqdm as notebook_tqdm\n"
     ]
    }
   ],
   "source": [
    "import pandas as pd\n",
    "import matplotlib.pyplot as plt\n",
    "import os\n",
    "from sqlalchemy import func\n",
    "\n",
    "from models import Generation, Export, Question, AnswerChoice, PARSERS\n",
    "from main import app\n",
    "from db import db\n",
    "\n",
    "context = app.app_context()\n",
    "context.push()"
   ]
  },
  {
   "attachments": {},
   "cell_type": "markdown",
   "metadata": {},
   "source": [
    "## Time spent making quizzes"
   ]
  },
  {
   "cell_type": "code",
   "execution_count": 3,
   "metadata": {},
   "outputs": [
    {
     "data": {
      "image/png": "[encoded data removed]",
      "text/plain": [
       "<Figure size 640x480 with 1 Axes>"
      ]
     },
     "metadata": {},
     "output_type": "display_data"
    }
   ],
   "source": [
    "# get first export for each quiz\n",
    "exports = (db.session.query(Generation.created_at.label(\"generation_created_at\"), func.min(Export.created_at).label(\"earliest_export_created_at\"))\n",
    "           .join(Export)\n",
    "           .group_by(Generation.id)\n",
    "           .all())\n",
    "\n",
    "# calculate delta between creation and export\n",
    "df = pd.DataFrame(exports)\n",
    "df[\"time_difference\"] = df[\"earliest_export_created_at\"] - df[\"generation_created_at\"]\n",
    "\n",
    "# convert timedelta to minutes\n",
    "df[\"time_difference\"] = df[\"time_difference\"].dt.total_seconds() / 60\n",
    "\n",
    "# create histogram\n",
    "plt.hist(df[\"time_difference\"], bins=50)\n",
    "plt.xlabel(\"Time to export (minutes)\")\n",
    "plt.ylabel(\"Frequency\")\n",
    "plt.title(\"Time difference between quiz creation and export\")\n",
    "plt.show()"
   ]
  },
  {
   "attachments": {},
   "cell_type": "markdown",
   "metadata": {},
   "source": [
    "## Question and answer edits"
   ]
  },
  {
   "cell_type": "code",
   "execution_count": 102,
   "metadata": {},
   "outputs": [
    {
     "data": {
      "text/html": [
       "<div>\n",
       "<style scoped>\n",
       "    .dataframe tbody tr th:only-of-type {\n",
       "        vertical-align: middle;\n",
       "    }\n",
       "\n",
       "    .dataframe tbody tr th {\n",
       "        vertical-align: top;\n",
       "    }\n",
       "\n",
       "    .dataframe thead th {\n",
       "        text-align: right;\n",
       "    }\n",
       "</style>\n",
       "<table border=\"1\" class=\"dataframe\">\n",
       "  <thead>\n",
       "    <tr style=\"text-align: right;\">\n",
       "      <th></th>\n",
       "      <th>original_question</th>\n",
       "      <th>question</th>\n",
       "    </tr>\n",
       "  </thead>\n",
       "  <tbody>\n",
       "    <tr>\n",
       "      <th>168</th>\n",
       "      <td>What is the main problem with using exceptions...</td>\n",
       "      <td>What is the main problem with using exceptions...</td>\n",
       "    </tr>\n",
       "    <tr>\n",
       "      <th>0</th>\n",
       "      <td>What is Functional Reactive Programming?</td>\n",
       "      <td>What is Functional Reactive Programming?</td>\n",
       "    </tr>\n",
       "    <tr>\n",
       "      <th>1</th>\n",
       "      <td>How does FrTime avoid glitches?</td>\n",
       "      <td>How does FrTime avoid glitches?</td>\n",
       "    </tr>\n",
       "    <tr>\n",
       "      <th>2</th>\n",
       "      <td>What is the output of the expression (string-l...</td>\n",
       "      <td>What is the output of the expression (string-l...</td>\n",
       "    </tr>\n",
       "    <tr>\n",
       "      <th>3</th>\n",
       "      <td>What type of time-varying value is seconds?</td>\n",
       "      <td>What type of time-varying value is seconds?</td>\n",
       "    </tr>\n",
       "    <tr>\n",
       "      <th>4</th>\n",
       "      <td>What is the output of the expression (add1 (cu...</td>\n",
       "      <td>What is the output of the expression (add1 (cu...</td>\n",
       "    </tr>\n",
       "    <tr>\n",
       "      <th>5</th>\n",
       "      <td>How does FrTime avoid certain glitches?</td>\n",
       "      <td>How does FrTime avoid certain glitches?</td>\n",
       "    </tr>\n",
       "    <tr>\n",
       "      <th>6</th>\n",
       "      <td>What is the output of the expression (string-l...</td>\n",
       "      <td>What is the output of the expression (string-l...</td>\n",
       "    </tr>\n",
       "    <tr>\n",
       "      <th>7</th>\n",
       "      <td>What is the purpose of FRP?</td>\n",
       "      <td>What is the purpose of FRP?</td>\n",
       "    </tr>\n",
       "    <tr>\n",
       "      <th>8</th>\n",
       "      <td>What is the output of the expression (string-l...</td>\n",
       "      <td>What is the output of the expression (string-l...</td>\n",
       "    </tr>\n",
       "  </tbody>\n",
       "</table>\n",
       "</div>"
      ],
      "text/plain": [
       "                                     original_question  \\\n",
       "168  What is the main problem with using exceptions...   \n",
       "0             What is Functional Reactive Programming?   \n",
       "1                      How does FrTime avoid glitches?   \n",
       "2    What is the output of the expression (string-l...   \n",
       "3          What type of time-varying value is seconds?   \n",
       "4    What is the output of the expression (add1 (cu...   \n",
       "5              How does FrTime avoid certain glitches?   \n",
       "6    What is the output of the expression (string-l...   \n",
       "7                          What is the purpose of FRP?   \n",
       "8    What is the output of the expression (string-l...   \n",
       "\n",
       "                                              question  \n",
       "168  What is the main problem with using exceptions...  \n",
       "0             What is Functional Reactive Programming?  \n",
       "1                      How does FrTime avoid glitches?  \n",
       "2    What is the output of the expression (string-l...  \n",
       "3          What type of time-varying value is seconds?  \n",
       "4    What is the output of the expression (add1 (cu...  \n",
       "5              How does FrTime avoid certain glitches?  \n",
       "6    What is the output of the expression (string-l...  \n",
       "7                          What is the purpose of FRP?  \n",
       "8    What is the output of the expression (string-l...  "
      ]
     },
     "metadata": {},
     "output_type": "display_data"
    },
    {
     "data": {
      "text/html": [
       "<div>\n",
       "<style scoped>\n",
       "    .dataframe tbody tr th:only-of-type {\n",
       "        vertical-align: middle;\n",
       "    }\n",
       "\n",
       "    .dataframe tbody tr th {\n",
       "        vertical-align: top;\n",
       "    }\n",
       "\n",
       "    .dataframe thead th {\n",
       "        text-align: right;\n",
       "    }\n",
       "</style>\n",
       "<table border=\"1\" class=\"dataframe\">\n",
       "  <thead>\n",
       "    <tr style=\"text-align: right;\">\n",
       "      <th></th>\n",
       "      <th>original_text</th>\n",
       "      <th>text</th>\n",
       "    </tr>\n",
       "  </thead>\n",
       "  <tbody>\n",
       "    <tr>\n",
       "      <th>653</th>\n",
       "      <td>It is not a standard approach in all programmi...</td>\n",
       "      <td>It is not a standard approach in all programmi...</td>\n",
       "    </tr>\n",
       "    <tr>\n",
       "      <th>652</th>\n",
       "      <td>It creates an inaccurate contract.</td>\n",
       "      <td>It creates an inaccurate contract.It creats an...</td>\n",
       "    </tr>\n",
       "    <tr>\n",
       "      <th>578</th>\n",
       "      <td>Rule eta</td>\n",
       "      <td>Rule etagdd</td>\n",
       "    </tr>\n",
       "    <tr>\n",
       "      <th>655</th>\n",
       "      <td>It is difficult to test for.</td>\n",
       "      <td>It is difficult to test for.v</td>\n",
       "    </tr>\n",
       "    <tr>\n",
       "      <th>0</th>\n",
       "      <td>A programming paradigm where what syntacticall...</td>\n",
       "      <td>A programming paradigm where what syntacticall...</td>\n",
       "    </tr>\n",
       "    <tr>\n",
       "      <th>1</th>\n",
       "      <td>A programming language where arguments are eva...</td>\n",
       "      <td>A programming language where arguments are eva...</td>\n",
       "    </tr>\n",
       "    <tr>\n",
       "      <th>2</th>\n",
       "      <td>A programming language whose evaluation model ...</td>\n",
       "      <td>A programming language whose evaluation model ...</td>\n",
       "    </tr>\n",
       "    <tr>\n",
       "      <th>3</th>\n",
       "      <td>A programming language which is fast and effic...</td>\n",
       "      <td>A programming language which is fast and effic...</td>\n",
       "    </tr>\n",
       "    <tr>\n",
       "      <th>4</th>\n",
       "      <td>By scheduling the graph to be updated in topog...</td>\n",
       "      <td>By scheduling the graph to be updated in topog...</td>\n",
       "    </tr>\n",
       "    <tr>\n",
       "      <th>5</th>\n",
       "      <td>By avoiding eager evaluations of time-varying ...</td>\n",
       "      <td>By avoiding eager evaluations of time-varying ...</td>\n",
       "    </tr>\n",
       "  </tbody>\n",
       "</table>\n",
       "</div>"
      ],
      "text/plain": [
       "                                         original_text  \\\n",
       "653  It is not a standard approach in all programmi...   \n",
       "652                 It creates an inaccurate contract.   \n",
       "578                                           Rule eta   \n",
       "655                       It is difficult to test for.   \n",
       "0    A programming paradigm where what syntacticall...   \n",
       "1    A programming language where arguments are eva...   \n",
       "2    A programming language whose evaluation model ...   \n",
       "3    A programming language which is fast and effic...   \n",
       "4    By scheduling the graph to be updated in topog...   \n",
       "5    By avoiding eager evaluations of time-varying ...   \n",
       "\n",
       "                                                  text  \n",
       "653  It is not a standard approach in all programmi...  \n",
       "652  It creates an inaccurate contract.It creats an...  \n",
       "578                                        Rule etagdd  \n",
       "655                      It is difficult to test for.v  \n",
       "0    A programming paradigm where what syntacticall...  \n",
       "1    A programming language where arguments are eva...  \n",
       "2    A programming language whose evaluation model ...  \n",
       "3    A programming language which is fast and effic...  \n",
       "4    By scheduling the graph to be updated in topog...  \n",
       "5    By avoiding eager evaluations of time-varying ...  "
      ]
     },
     "metadata": {},
     "output_type": "display_data"
    }
   ],
   "source": [
    "from Levenshtein import distance\n",
    "from IPython.display import display\n",
    "\n",
    "# find levenshtein distance between original and current question\n",
    "questions = Question.query.all()\n",
    "questions = pd.DataFrame(questions)\n",
    "questions[\"difference\"] = questions.apply(lambda x: distance(x[\"original_question\"], x[\"question\"]), axis=1)\n",
    "display(questions.nlargest(10, \"difference\")[[\"original_question\", \"question\"]])\n",
    "\n",
    "# find levenshtein distance between original and current answer choice\n",
    "answers = AnswerChoice.query.all()\n",
    "answers = pd.DataFrame(answers)\n",
    "answers[\"difference\"] = answers.apply(lambda x: distance(x[\"original_text\"], x[\"text\"]), axis=1)\n",
    "display(answers.nlargest(10, \"difference\")[[\"original_text\", \"text\"]])\n"
   ]
  },
  {
   "attachments": {},
   "cell_type": "markdown",
   "metadata": {},
   "source": [
    "## Question and answer deletions"
   ]
  },
  {
   "cell_type": "code",
   "execution_count": 103,
   "metadata": {},
   "outputs": [
    {
     "name": "stdout",
     "output_type": "stream",
     "text": [
      "Questions deleted: 2.81%\n",
      "Answers deleted: 0.70%\n"
     ]
    }
   ],
   "source": [
    "# remove questions that contain > 30 insertions/deletions\n",
    "EDIT_THRESHOLD = 30\n",
    "\n",
    "# find percentage of questions either deleted or modified above threshold\n",
    "questions = Question.query.with_deleted().all()\n",
    "questions = pd.DataFrame(questions)\n",
    "questions[\"difference\"] = questions.apply(lambda x: distance(x[\"original_question\"], x[\"question\"]), axis=1)\n",
    "\n",
    "percentage = questions.query(f\"deleted == True | difference > {EDIT_THRESHOLD}\").shape[0] / questions.shape[0] * 100\n",
    "print(f\"Questions deleted: {percentage:.2f}%\")\n",
    "\n",
    "# find percentage of answer choices either deleted or modified above threshold\n",
    "answers = AnswerChoice.query.with_deleted().all()\n",
    "answers = pd.DataFrame(answers)\n",
    "answers[\"difference\"] = answers.apply(lambda x: distance(x[\"original_text\"], x[\"text\"]), axis=1)\n",
    "\n",
    "percentage = answers.query(f\"deleted == True | difference > {EDIT_THRESHOLD}\").shape[0] / answers.shape[0] * 100\n",
    "print(f\"Answers deleted: {percentage:.2f}%\")"
   ]
  },
  {
   "attachments": {},
   "cell_type": "markdown",
   "metadata": {},
   "source": [
    "## Submitted content length"
   ]
  },
  {
   "cell_type": "code",
   "execution_count": 99,
   "metadata": {},
   "outputs": [
    {
     "name": "stderr",
     "output_type": "stream",
     "text": [
      "/home/connor/Research/gpt-quiz-generation/quiz-env/lib/python3.8/site-packages/bs4/__init__.py:435: MarkupResemblesLocatorWarning: The input looks more like a filename than markup. You may want to open this file and pass the filehandle into Beautiful Soup.\n",
      "  warnings.warn(\n",
      "/home/connor/Research/gpt-quiz-generation/quiz-env/lib/python3.8/site-packages/bs4/__init__.py:404: MarkupResemblesLocatorWarning: The input looks more like a URL than markup. You may want to use an HTTP client like requests to get the document behind the URL, and feed that document to Beautiful Soup.\n",
      "  warnings.warn(\n"
     ]
    },
    {
     "data": {
      "image/png": "[encoded data removed]",
      "text/plain": [
       "<Figure size 640x480 with 1 Axes>"
      ]
     },
     "metadata": {},
     "output_type": "display_data"
    }
   ],
   "source": [
    "from lib.completion import chapter_tokens\n",
    "\n",
    "def get_content_length(generation: Generation):\n",
    "    parser = PARSERS[generation.content_type]\n",
    "    filename = os.path.join(app.config[\"UPLOAD_FOLDER\"], generation.unique_filename)\n",
    "\n",
    "    with open(filename) as upload:\n",
    "        parsed = parser(upload)\n",
    "\n",
    "    return chapter_tokens(parsed)\n",
    "\n",
    "generations = Generation.query.all()\n",
    "generations = pd.DataFrame(generations)\n",
    "\n",
    "generations[\"tokens\"] = generations.apply(get_content_length, axis=1)\n",
    "\n",
    "# create histogram\n",
    "plt.hist(generations[\"tokens\"], bins=50)\n",
    "plt.xlabel(\"Content size (tokens)\")\n",
    "plt.ylabel(\"Frequency\")\n",
    "plt.title(\"Uploaded content size\")\n",
    "plt.show()"
   ]
  }
 ],
 "metadata": {
  "kernelspec": {
   "display_name": "quiz-env",
   "language": "python",
   "name": "python3"
  },
  "language_info": {
   "codemirror_mode": {
    "name": "ipython",
    "version": 3
   },
   "file_extension": ".py",
   "mimetype": "text/x-python",
   "name": "python",
   "nbconvert_exporter": "python",
   "pygments_lexer": "ipython3",
   "version": "3.8.10"
  },
  "orig_nbformat": 4,
  "vscode": {
   "interpreter": {
    "hash": "62012829ee5006af4f3f0e3e09815a204fd769233eb6a03dec875700fc8272b8"
   }
  }
 },
 "nbformat": 4,
 "nbformat_minor": 2
}
